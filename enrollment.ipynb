{
 "cells": [
  {
   "cell_type": "code",
   "execution_count": 1,
   "metadata": {},
   "outputs": [],
   "source": [
    "\n"
   ]
  },
  {
   "cell_type": "code",
   "execution_count": 2,
   "metadata": {},
   "outputs": [
    {
     "name": "stdout",
     "output_type": "stream",
     "text": [
      "{'DOJ': '25/09/2017', 'address': 'sdsd', 'department': 'hulk', 'email': 'nawaz@gmail.com', 'mobile': '5454665', 'name': 'Nawaz', 'subject': 'a'}\n",
      "{'DOJ': '0000000', 'address': 'xyz', 'department': 'Trainee', 'email': 'Xaid@gmail.com', 'mobile': '00000000', 'name': 'Zaid Kamil', 'subject': 'Android'}\n",
      "{'DOJ': '999999', 'address': 'aaaaaaaaaaaa', 'department': 'kotlin', 'email': 'adward@gmail.com', 'mobile': '77777777', 'name': 'Aditya', 'subject': 'Android'}\n",
      "{'DOJ': '7832467', 'address': 'sssssss', 'department': 'python', 'email': 'dev@gmail.com', 'mobile': '646540654', 'name': 'Developer', 'subject': 'python'}\n"
     ]
    }
   ],
   "source": [
    "db = firebase.FirebaseApplication(FIREBASE, None)\n",
    "result = db.get('/Staff', None)\n",
    "for key in result:\n",
    "    print(result.get(key))"
   ]
  },
  {
   "cell_type": "code",
   "execution_count": null,
   "metadata": {
    "collapsed": true
   },
   "outputs": [],
   "source": [
    "def showData(response):\n",
    "    print(type(response))\n",
    "    "
   ]
  },
  {
   "cell_type": "code",
   "execution_count": null,
   "metadata": {},
   "outputs": [],
   "source": [
    "from firebase import firebase\n",
    "db = firebase.FirebaseApplication(FIREBASE, None)\n",
    "result = db.get_async('/Staff', None, headers={'print': 'pretty'},callback=showData)\n",
    "print(result)\n"
   ]
  },
  {
   "cell_type": "code",
   "execution_count": 25,
   "metadata": {
    "collapsed": true
   },
   "outputs": [],
   "source": [
    "from firebase import firebase\n",
    "FIREBASE ='https://basoiot-a66d0.firebaseio.com/'\n",
    "STAFF =\"/Staff\"\n",
    "USER = '/Users'\n",
    "ATTD = '/ATTENDANCE'\n",
    "\n",
    "def add_fingerprint(fb,uid,fingerprint=\"no fingerprint\"):\n",
    "    fb.put(STAFF+'/'+uid,name='fingerprint',data=fingerprint)\n",
    "    print(\"saved\")"
   ]
  },
  {
   "cell_type": "code",
   "execution_count": 26,
   "metadata": {},
   "outputs": [],
   "source": [
    "def find_person_id(fb,email):\n",
    "    staff=fb.get(STAFF,None)\n",
    "    for key in staff:\n",
    "        member = staff.get(key)\n",
    "        for attr in member:\n",
    "            if email in member.get(attr):\n",
    "                return key\n",
    "    return None"
   ]
  },
  {
   "cell_type": "code",
   "execution_count": 27,
   "metadata": {},
   "outputs": [],
   "source": [
    "fb=firebase.FirebaseApplication(FIREBASE,None)\n",
    "\n",
    "uid = find_person_id(fb,\"dev@gmail.com\")"
   ]
  },
  {
   "cell_type": "code",
   "execution_count": 28,
   "metadata": {},
   "outputs": [
    {
     "name": "stdout",
     "output_type": "stream",
     "text": [
      "saved\n"
     ]
    }
   ],
   "source": [
    "add_fingerprint(fb,uid)"
   ]
  },
  {
   "cell_type": "code",
   "execution_count": null,
   "metadata": {
    "collapsed": true
   },
   "outputs": [],
   "source": []
  }
 ],
 "metadata": {
  "kernelspec": {
   "display_name": "Python 3",
   "language": "python",
   "name": "python3"
  },
  "language_info": {
   "codemirror_mode": {
    "name": "ipython",
    "version": 3
   },
   "file_extension": ".py",
   "mimetype": "text/x-python",
   "name": "python",
   "nbconvert_exporter": "python",
   "pygments_lexer": "ipython3",
   "version": "3.6.2"
  }
 },
 "nbformat": 4,
 "nbformat_minor": 2
}
