{
 "cells": [
  {
   "cell_type": "code",
   "execution_count": 1,
   "metadata": {
    "collapsed": true
   },
   "outputs": [],
   "source": [
    "from tkinter import *\n",
    "from PIL import Image, ImageTk"
   ]
  },
  {
   "cell_type": "code",
   "execution_count": null,
   "metadata": {
    "collapsed": true
   },
   "outputs": [],
   "source": [
    "class Window(Frame):\n",
    "\n",
    "    def __init__(self, master=None):\n",
    "        Frame.__init__(self, master)               \n",
    "        self.master = master"
   ]
  },
  {
   "cell_type": "code",
   "execution_count": null,
   "metadata": {
    "collapsed": true
   },
   "outputs": [],
   "source": [
    "root = Tk()"
   ]
  },
  {
   "cell_type": "code",
   "execution_count": null,
   "metadata": {
    "collapsed": true
   },
   "outputs": [],
   "source": [
    "app = Window(root)"
   ]
  },
  {
   "cell_type": "code",
   "execution_count": null,
   "metadata": {
    "collapsed": true
   },
   "outputs": [],
   "source": [
    "root.mainloop()"
   ]
  },
  {
   "cell_type": "code",
   "execution_count": null,
   "metadata": {
    "collapsed": true
   },
   "outputs": [],
   "source": [
    "class Window(Frame):\n",
    "\n",
    "\n",
    "    def __init__(self, master=None):\n",
    "        Frame.__init__(self, master)                 \n",
    "        self.master = master\n",
    "        self.init_window()\n",
    "\n",
    "    #Creation of init_window\n",
    "    def init_window(self):\n",
    "\n",
    "        # changing the title of our master widget      \n",
    "        self.master.title(\"GUI\")\n",
    "\n",
    "        # allowing the widget to take the full space of the root window\n",
    "        self.pack(fill=BOTH, expand=1)\n",
    "\n",
    "        # creating a button instance\n",
    "        quitButton = Button(self, text=\"Quit\")\n",
    "\n",
    "        # placing the button on my window\n",
    "        quitButton.place(x=0, y=0)\n",
    "\n",
    "root = Tk()\n",
    "\n",
    "#size of the window\n",
    "root.geometry(\"480x320\")\n",
    "\n",
    "app = Window(root)\n",
    "root.mainloop()  "
   ]
  },
  {
   "cell_type": "code",
   "execution_count": null,
   "metadata": {
    "collapsed": true
   },
   "outputs": [],
   "source": [
    "class Window(Frame):\n",
    "\n",
    "    # Define settings upon initialization. Here you can specify\n",
    "    def __init__(self, master=None):\n",
    "        \n",
    "        # parameters that you want to send through the Frame class. \n",
    "        Frame.__init__(self, master)   \n",
    "\n",
    "        #reference to the master widget, which is the tk window                 \n",
    "        self.master = master\n",
    "\n",
    "        #with that, we want to then run init_window, which doesn't yet exist\n",
    "        self.init_window()\n",
    "\n",
    "    #Creation of init_window\n",
    "    def init_window(self):\n",
    "\n",
    "        # changing the title of our master widget      \n",
    "        self.master.title(\"GUI\")\n",
    "\n",
    "        # allowing the widget to take the full space of the root window\n",
    "        self.pack(fill=BOTH, expand=1)\n",
    "\n",
    "        # creating a button instance\n",
    "        quitButton = Button(self, text=\"Exit\",command=self.client_exit)\n",
    "\n",
    "        # placing the button on my window\n",
    "        quitButton.place(x=0, y=0)\n",
    "\n",
    "       \n",
    "\n",
    "    def client_exit(self):\n",
    "        exit()\n",
    "\n",
    "# root window created. Here, that would be the only window, but\n",
    "# you can later have windows within windows.\n",
    "root = Tk()\n",
    "\n",
    "root.geometry(\"400x300\")\n",
    "\n",
    "#creation of an instance\n",
    "app = Window(root)\n",
    "\n",
    "#mainloop \n",
    "root.mainloop()"
   ]
  },
  {
   "cell_type": "code",
   "execution_count": 2,
   "metadata": {
    "collapsed": true
   },
   "outputs": [],
   "source": [
    "from tkinter import *\n",
    "from PIL import Image, ImageTk\n",
    "class Window(Frame):\n",
    "\n",
    "    # Define settings upon initialization. Here you can specify\n",
    "    def __init__(self, master=None):\n",
    "        \n",
    "        # parameters that you want to send through the Frame class. \n",
    "        Frame.__init__(self, master)   \n",
    "\n",
    "        #reference to the master widget, which is the tk window                 \n",
    "        self.master = master\n",
    "\n",
    "        #with that, we want to then run init_window, which doesn't yet exist\n",
    "        self.init_window()\n",
    "\n",
    "    #Creation of init_window\n",
    "    def init_window(self):\n",
    "\n",
    "        self.master.title(\"GUI\")\n",
    "        self.pack(fill=BOTH, expand=1)\n",
    "        self.showImg()\n",
    "        self.showText()\n",
    "\n",
    "    def showImg(self):\n",
    "        load = Image.open(\"finger_print.png\")\n",
    "        render = ImageTk.PhotoImage(load)\n",
    "\n",
    "        # labels can be text or images\n",
    "        img = Label(self, image=render)\n",
    "        img.image = render\n",
    "        text = Label(self, text=\"Please Scan your finger\")\n",
    "        text.pack()\n",
    "        img.pack()\n",
    "        \n",
    "\n",
    "    def showText(self):\n",
    "        text2 = Label(self, text=\"Status\",font='Arial 26 bold italic')\n",
    "        text2.pack()\n",
    "\n",
    "\n",
    "        \n",
    "\n",
    "    def client_exit(self):\n",
    "        exit()\n",
    "\n",
    "\n",
    "# root window created. Here, that would be the only window, but\n",
    "# you can later have windows within windows.\n",
    "root = Tk()\n",
    "\n",
    "root.geometry(\"480x320\")\n",
    "\n",
    "#creation of an instance\n",
    "app = Window(root)\n",
    "\n",
    "\n",
    "#mainloop \n",
    "root.mainloop()"
   ]
  },
  {
   "cell_type": "code",
   "execution_count": 3,
   "metadata": {
    "collapsed": true
   },
   "outputs": [],
   "source": [
    "import subprocess"
   ]
  },
  {
   "cell_type": "code",
   "execution_count": 8,
   "metadata": {},
   "outputs": [
    {
     "data": {
      "text/plain": [
       "0"
      ]
     },
     "execution_count": 8,
     "metadata": {},
     "output_type": "execute_result"
    }
   ],
   "source": [
    "subprocess.call('dir',shell=True)"
   ]
  },
  {
   "cell_type": "code",
   "execution_count": 5,
   "metadata": {},
   "outputs": [
    {
     "data": {
      "text/plain": [
       "0"
      ]
     },
     "execution_count": 5,
     "metadata": {},
     "output_type": "execute_result"
    }
   ],
   "source": [
    "subprocess.call('echo dir', shell=True)"
   ]
  },
  {
   "cell_type": "code",
   "execution_count": null,
   "metadata": {
    "collapsed": true
   },
   "outputs": [],
   "source": []
  }
 ],
 "metadata": {
  "kernelspec": {
   "display_name": "Python 3",
   "language": "python",
   "name": "python3"
  },
  "language_info": {
   "codemirror_mode": {
    "name": "ipython",
    "version": 3
   },
   "file_extension": ".py",
   "mimetype": "text/x-python",
   "name": "python",
   "nbconvert_exporter": "python",
   "pygments_lexer": "ipython3",
   "version": "3.6.3"
  }
 },
 "nbformat": 4,
 "nbformat_minor": 2
}
